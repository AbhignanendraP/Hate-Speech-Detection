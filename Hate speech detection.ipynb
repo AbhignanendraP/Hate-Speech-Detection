{
 "cells": [
  {
   "cell_type": "code",
   "execution_count": 1,
   "metadata": {
    "collapsed": false
   },
   "outputs": [
    {
     "name": "stderr",
     "output_type": "stream",
     "text": [
      "C:\\Users\\P Abhi\\Anaconda\\lib\\site-packages\\pandas\\compat\\_optional.py:106: UserWarning: Pandas requires version '1.2.1' or newer of 'bottleneck' (version '1.2.0' currently installed).\n",
      "  warnings.warn(msg, UserWarning)\n"
     ]
    }
   ],
   "source": [
    "import pandas as pd\n",
    "import numpy as np\n",
    "import re\n",
    "import tqdm\n",
    "from matplotlib._path import (affine_transform, count_bboxes_overlapping_bbox,\n",
    "     update_path_extents)"
   ]
  },
  {
   "cell_type": "code",
   "execution_count": 2,
   "metadata": {
    "collapsed": false
   },
   "outputs": [
    {
     "data": {
      "text/html": [
       "<div>\n",
       "<style scoped>\n",
       "    .dataframe tbody tr th:only-of-type {\n",
       "        vertical-align: middle;\n",
       "    }\n",
       "\n",
       "    .dataframe tbody tr th {\n",
       "        vertical-align: top;\n",
       "    }\n",
       "\n",
       "    .dataframe thead th {\n",
       "        text-align: right;\n",
       "    }\n",
       "</style>\n",
       "<table border=\"1\" class=\"dataframe\">\n",
       "  <thead>\n",
       "    <tr style=\"text-align: right;\">\n",
       "      <th></th>\n",
       "      <th>id</th>\n",
       "      <th>count</th>\n",
       "      <th>hate_speech</th>\n",
       "      <th>offensive_language</th>\n",
       "      <th>neither</th>\n",
       "      <th>class</th>\n",
       "    </tr>\n",
       "  </thead>\n",
       "  <tbody>\n",
       "    <tr>\n",
       "      <th>count</th>\n",
       "      <td>24783.000000</td>\n",
       "      <td>24783.000000</td>\n",
       "      <td>24783.000000</td>\n",
       "      <td>24783.000000</td>\n",
       "      <td>24783.000000</td>\n",
       "      <td>24783.000000</td>\n",
       "    </tr>\n",
       "    <tr>\n",
       "      <th>mean</th>\n",
       "      <td>12681.192027</td>\n",
       "      <td>3.243473</td>\n",
       "      <td>0.280515</td>\n",
       "      <td>2.413711</td>\n",
       "      <td>0.549247</td>\n",
       "      <td>1.110277</td>\n",
       "    </tr>\n",
       "    <tr>\n",
       "      <th>std</th>\n",
       "      <td>7299.553863</td>\n",
       "      <td>0.883060</td>\n",
       "      <td>0.631851</td>\n",
       "      <td>1.399459</td>\n",
       "      <td>1.113299</td>\n",
       "      <td>0.462089</td>\n",
       "    </tr>\n",
       "    <tr>\n",
       "      <th>min</th>\n",
       "      <td>0.000000</td>\n",
       "      <td>3.000000</td>\n",
       "      <td>0.000000</td>\n",
       "      <td>0.000000</td>\n",
       "      <td>0.000000</td>\n",
       "      <td>0.000000</td>\n",
       "    </tr>\n",
       "    <tr>\n",
       "      <th>25%</th>\n",
       "      <td>6372.500000</td>\n",
       "      <td>3.000000</td>\n",
       "      <td>0.000000</td>\n",
       "      <td>2.000000</td>\n",
       "      <td>0.000000</td>\n",
       "      <td>1.000000</td>\n",
       "    </tr>\n",
       "    <tr>\n",
       "      <th>50%</th>\n",
       "      <td>12703.000000</td>\n",
       "      <td>3.000000</td>\n",
       "      <td>0.000000</td>\n",
       "      <td>3.000000</td>\n",
       "      <td>0.000000</td>\n",
       "      <td>1.000000</td>\n",
       "    </tr>\n",
       "    <tr>\n",
       "      <th>75%</th>\n",
       "      <td>18995.500000</td>\n",
       "      <td>3.000000</td>\n",
       "      <td>0.000000</td>\n",
       "      <td>3.000000</td>\n",
       "      <td>0.000000</td>\n",
       "      <td>1.000000</td>\n",
       "    </tr>\n",
       "    <tr>\n",
       "      <th>max</th>\n",
       "      <td>25296.000000</td>\n",
       "      <td>9.000000</td>\n",
       "      <td>7.000000</td>\n",
       "      <td>9.000000</td>\n",
       "      <td>9.000000</td>\n",
       "      <td>2.000000</td>\n",
       "    </tr>\n",
       "  </tbody>\n",
       "</table>\n",
       "</div>"
      ],
      "text/plain": [
       "                 id         count   hate_speech  offensive_language  \\\n",
       "count  24783.000000  24783.000000  24783.000000        24783.000000   \n",
       "mean   12681.192027      3.243473      0.280515            2.413711   \n",
       "std     7299.553863      0.883060      0.631851            1.399459   \n",
       "min        0.000000      3.000000      0.000000            0.000000   \n",
       "25%     6372.500000      3.000000      0.000000            2.000000   \n",
       "50%    12703.000000      3.000000      0.000000            3.000000   \n",
       "75%    18995.500000      3.000000      0.000000            3.000000   \n",
       "max    25296.000000      9.000000      7.000000            9.000000   \n",
       "\n",
       "            neither         class  \n",
       "count  24783.000000  24783.000000  \n",
       "mean       0.549247      1.110277  \n",
       "std        1.113299      0.462089  \n",
       "min        0.000000      0.000000  \n",
       "25%        0.000000      1.000000  \n",
       "50%        0.000000      1.000000  \n",
       "75%        0.000000      1.000000  \n",
       "max        9.000000      2.000000  "
      ]
     },
     "execution_count": 2,
     "metadata": {},
     "output_type": "execute_result"
    }
   ],
   "source": [
    "dataset=pd.read_csv('dataset.csv')\n",
    "dataset.dropna(inplace = True)\n",
    "dataset.describe()"
   ]
  },
  {
   "cell_type": "code",
   "execution_count": 3,
   "metadata": {
    "collapsed": false
   },
   "outputs": [
    {
     "data": {
      "text/html": [
       "<div>\n",
       "<style scoped>\n",
       "    .dataframe tbody tr th:only-of-type {\n",
       "        vertical-align: middle;\n",
       "    }\n",
       "\n",
       "    .dataframe tbody tr th {\n",
       "        vertical-align: top;\n",
       "    }\n",
       "\n",
       "    .dataframe thead th {\n",
       "        text-align: right;\n",
       "    }\n",
       "</style>\n",
       "<table border=\"1\" class=\"dataframe\">\n",
       "  <thead>\n",
       "    <tr style=\"text-align: right;\">\n",
       "      <th></th>\n",
       "      <th>id</th>\n",
       "      <th>count</th>\n",
       "      <th>hate_speech</th>\n",
       "      <th>offensive_language</th>\n",
       "      <th>neither</th>\n",
       "      <th>class</th>\n",
       "      <th>tweet</th>\n",
       "    </tr>\n",
       "  </thead>\n",
       "  <tbody>\n",
       "    <tr>\n",
       "      <th>0</th>\n",
       "      <td>0</td>\n",
       "      <td>3</td>\n",
       "      <td>0</td>\n",
       "      <td>0</td>\n",
       "      <td>3</td>\n",
       "      <td>2</td>\n",
       "      <td>!!! RT @mayasolovely: As a woman you shouldn't...</td>\n",
       "    </tr>\n",
       "    <tr>\n",
       "      <th>1</th>\n",
       "      <td>1</td>\n",
       "      <td>3</td>\n",
       "      <td>0</td>\n",
       "      <td>3</td>\n",
       "      <td>0</td>\n",
       "      <td>1</td>\n",
       "      <td>!!!!! RT @mleew17: boy dats cold...tyga dwn ba...</td>\n",
       "    </tr>\n",
       "    <tr>\n",
       "      <th>2</th>\n",
       "      <td>2</td>\n",
       "      <td>3</td>\n",
       "      <td>0</td>\n",
       "      <td>3</td>\n",
       "      <td>0</td>\n",
       "      <td>1</td>\n",
       "      <td>!!!!!!! RT @UrKindOfBrand Dawg!!!! RT @80sbaby...</td>\n",
       "    </tr>\n",
       "    <tr>\n",
       "      <th>3</th>\n",
       "      <td>3</td>\n",
       "      <td>3</td>\n",
       "      <td>0</td>\n",
       "      <td>2</td>\n",
       "      <td>1</td>\n",
       "      <td>1</td>\n",
       "      <td>!!!!!!!!! RT @C_G_Anderson: @viva_based she lo...</td>\n",
       "    </tr>\n",
       "    <tr>\n",
       "      <th>4</th>\n",
       "      <td>4</td>\n",
       "      <td>6</td>\n",
       "      <td>0</td>\n",
       "      <td>6</td>\n",
       "      <td>0</td>\n",
       "      <td>1</td>\n",
       "      <td>!!!!!!!!!!!!! RT @ShenikaRoberts: The shit you...</td>\n",
       "    </tr>\n",
       "    <tr>\n",
       "      <th>...</th>\n",
       "      <td>...</td>\n",
       "      <td>...</td>\n",
       "      <td>...</td>\n",
       "      <td>...</td>\n",
       "      <td>...</td>\n",
       "      <td>...</td>\n",
       "      <td>...</td>\n",
       "    </tr>\n",
       "    <tr>\n",
       "      <th>24778</th>\n",
       "      <td>25291</td>\n",
       "      <td>3</td>\n",
       "      <td>0</td>\n",
       "      <td>2</td>\n",
       "      <td>1</td>\n",
       "      <td>1</td>\n",
       "      <td>you's a muthaf***in lie &amp;#8220;@LifeAsKing: @2...</td>\n",
       "    </tr>\n",
       "    <tr>\n",
       "      <th>24779</th>\n",
       "      <td>25292</td>\n",
       "      <td>3</td>\n",
       "      <td>0</td>\n",
       "      <td>1</td>\n",
       "      <td>2</td>\n",
       "      <td>2</td>\n",
       "      <td>you've gone and broke the wrong heart baby, an...</td>\n",
       "    </tr>\n",
       "    <tr>\n",
       "      <th>24780</th>\n",
       "      <td>25294</td>\n",
       "      <td>3</td>\n",
       "      <td>0</td>\n",
       "      <td>3</td>\n",
       "      <td>0</td>\n",
       "      <td>1</td>\n",
       "      <td>young buck wanna eat!!.. dat nigguh like I ain...</td>\n",
       "    </tr>\n",
       "    <tr>\n",
       "      <th>24781</th>\n",
       "      <td>25295</td>\n",
       "      <td>6</td>\n",
       "      <td>0</td>\n",
       "      <td>6</td>\n",
       "      <td>0</td>\n",
       "      <td>1</td>\n",
       "      <td>youu got wild bitches tellin you lies</td>\n",
       "    </tr>\n",
       "    <tr>\n",
       "      <th>24782</th>\n",
       "      <td>25296</td>\n",
       "      <td>3</td>\n",
       "      <td>0</td>\n",
       "      <td>0</td>\n",
       "      <td>3</td>\n",
       "      <td>2</td>\n",
       "      <td>~~Ruffled | Ntac Eileen Dahlia - Beautiful col...</td>\n",
       "    </tr>\n",
       "  </tbody>\n",
       "</table>\n",
       "<p>24783 rows × 7 columns</p>\n",
       "</div>"
      ],
      "text/plain": [
       "          id  count  hate_speech  offensive_language  neither  class  \\\n",
       "0          0      3            0                   0        3      2   \n",
       "1          1      3            0                   3        0      1   \n",
       "2          2      3            0                   3        0      1   \n",
       "3          3      3            0                   2        1      1   \n",
       "4          4      6            0                   6        0      1   \n",
       "...      ...    ...          ...                 ...      ...    ...   \n",
       "24778  25291      3            0                   2        1      1   \n",
       "24779  25292      3            0                   1        2      2   \n",
       "24780  25294      3            0                   3        0      1   \n",
       "24781  25295      6            0                   6        0      1   \n",
       "24782  25296      3            0                   0        3      2   \n",
       "\n",
       "                                                   tweet  \n",
       "0      !!! RT @mayasolovely: As a woman you shouldn't...  \n",
       "1      !!!!! RT @mleew17: boy dats cold...tyga dwn ba...  \n",
       "2      !!!!!!! RT @UrKindOfBrand Dawg!!!! RT @80sbaby...  \n",
       "3      !!!!!!!!! RT @C_G_Anderson: @viva_based she lo...  \n",
       "4      !!!!!!!!!!!!! RT @ShenikaRoberts: The shit you...  \n",
       "...                                                  ...  \n",
       "24778  you's a muthaf***in lie &#8220;@LifeAsKing: @2...  \n",
       "24779  you've gone and broke the wrong heart baby, an...  \n",
       "24780  young buck wanna eat!!.. dat nigguh like I ain...  \n",
       "24781              youu got wild bitches tellin you lies  \n",
       "24782  ~~Ruffled | Ntac Eileen Dahlia - Beautiful col...  \n",
       "\n",
       "[24783 rows x 7 columns]"
      ]
     },
     "execution_count": 3,
     "metadata": {},
     "output_type": "execute_result"
    }
   ],
   "source": [
    "dataset"
   ]
  },
  {
   "cell_type": "code",
   "execution_count": 4,
   "metadata": {
    "collapsed": false
   },
   "outputs": [
    {
     "data": {
      "text/plain": [
       "class\n",
       "0     1430\n",
       "1    19190\n",
       "2     4163\n",
       "Name: id, dtype: int64"
      ]
     },
     "execution_count": 4,
     "metadata": {},
     "output_type": "execute_result"
    }
   ],
   "source": [
    "dataset.groupby('class')['id'].nunique()"
   ]
  },
  {
   "cell_type": "code",
   "execution_count": 49,
   "metadata": {
    "collapsed": false,
    "scrolled": false
   },
   "outputs": [
    {
     "data": {
      "image/png": "[encoded data removed]",
      "text/plain": [
       "<matplotlib.figure.Figure at 0x2602f06d748>"
      ]
     },
     "metadata": {},
     "output_type": "display_data"
    }
   ],
   "source": [
    "'''import matplotlib\n",
    "import matplotlib.pyplot as plt\n",
    "dataset.groupby('class')['id'].nunique().plot(kind='bar',title='Plot of number of tweets belonging to a particular class')\n",
    "plt.show()'''"
   ]
  },
  {
   "cell_type": "code",
   "execution_count": 6,
   "metadata": {
    "collapsed": false
   },
   "outputs": [],
   "source": [
    "from nltk import tokenize\n",
    "from nltk.corpus import stopwords\n",
    "from nltk.tokenize import word_tokenize \n",
    "\n",
    "from gensim.models import Word2Vec\n",
    "\n",
    "from sklearn.model_selection import train_test_split"
   ]
  },
  {
   "cell_type": "code",
   "execution_count": 7,
   "metadata": {
    "collapsed": false
   },
   "outputs": [
    {
     "name": "stdout",
     "output_type": "stream",
     "text": [
      "[nltk_data] Downloading package stopwords to C:\\Users\\P\n",
      "[nltk_data]     Abhi\\AppData\\Roaming\\nltk_data...\n",
      "[nltk_data]   Package stopwords is already up-to-date!\n"
     ]
    },
    {
     "data": {
      "text/plain": [
       "True"
      ]
     },
     "execution_count": 7,
     "metadata": {},
     "output_type": "execute_result"
    }
   ],
   "source": [
    "import nltk\n",
    "nltk.download('stopwords')"
   ]
  },
  {
   "cell_type": "code",
   "execution_count": 8,
   "metadata": {
    "collapsed": false
   },
   "outputs": [
    {
     "data": {
      "text/plain": [
       "{'a',\n",
       " 'about',\n",
       " 'above',\n",
       " 'after',\n",
       " 'again',\n",
       " 'against',\n",
       " 'ain',\n",
       " 'all',\n",
       " 'am',\n",
       " 'an',\n",
       " 'and',\n",
       " 'any',\n",
       " 'are',\n",
       " 'aren',\n",
       " \"aren't\",\n",
       " 'as',\n",
       " 'at',\n",
       " 'be',\n",
       " 'because',\n",
       " 'been',\n",
       " 'before',\n",
       " 'being',\n",
       " 'below',\n",
       " 'between',\n",
       " 'both',\n",
       " 'but',\n",
       " 'by',\n",
       " 'can',\n",
       " 'couldn',\n",
       " \"couldn't\",\n",
       " 'd',\n",
       " 'did',\n",
       " 'didn',\n",
       " \"didn't\",\n",
       " 'do',\n",
       " 'does',\n",
       " 'doesn',\n",
       " \"doesn't\",\n",
       " 'doing',\n",
       " 'don',\n",
       " \"don't\",\n",
       " 'down',\n",
       " 'during',\n",
       " 'each',\n",
       " 'few',\n",
       " 'for',\n",
       " 'from',\n",
       " 'further',\n",
       " 'had',\n",
       " 'hadn',\n",
       " \"hadn't\",\n",
       " 'has',\n",
       " 'hasn',\n",
       " \"hasn't\",\n",
       " 'have',\n",
       " 'haven',\n",
       " \"haven't\",\n",
       " 'having',\n",
       " 'he',\n",
       " 'her',\n",
       " 'here',\n",
       " 'hers',\n",
       " 'herself',\n",
       " 'him',\n",
       " 'himself',\n",
       " 'his',\n",
       " 'how',\n",
       " 'i',\n",
       " 'if',\n",
       " 'in',\n",
       " 'into',\n",
       " 'is',\n",
       " 'isn',\n",
       " \"isn't\",\n",
       " 'it',\n",
       " \"it's\",\n",
       " 'its',\n",
       " 'itself',\n",
       " 'just',\n",
       " 'll',\n",
       " 'm',\n",
       " 'ma',\n",
       " 'me',\n",
       " 'mightn',\n",
       " \"mightn't\",\n",
       " 'more',\n",
       " 'most',\n",
       " 'mustn',\n",
       " \"mustn't\",\n",
       " 'my',\n",
       " 'myself',\n",
       " 'needn',\n",
       " \"needn't\",\n",
       " 'no',\n",
       " 'nor',\n",
       " 'not',\n",
       " 'now',\n",
       " 'o',\n",
       " 'of',\n",
       " 'off',\n",
       " 'on',\n",
       " 'once',\n",
       " 'only',\n",
       " 'or',\n",
       " 'other',\n",
       " 'our',\n",
       " 'ours',\n",
       " 'ourselves',\n",
       " 'out',\n",
       " 'over',\n",
       " 'own',\n",
       " 're',\n",
       " 's',\n",
       " 'same',\n",
       " 'shan',\n",
       " \"shan't\",\n",
       " 'she',\n",
       " \"she's\",\n",
       " 'should',\n",
       " \"should've\",\n",
       " 'shouldn',\n",
       " \"shouldn't\",\n",
       " 'so',\n",
       " 'some',\n",
       " 'such',\n",
       " 't',\n",
       " 'than',\n",
       " 'that',\n",
       " \"that'll\",\n",
       " 'the',\n",
       " 'their',\n",
       " 'theirs',\n",
       " 'them',\n",
       " 'themselves',\n",
       " 'then',\n",
       " 'there',\n",
       " 'these',\n",
       " 'they',\n",
       " 'this',\n",
       " 'those',\n",
       " 'through',\n",
       " 'to',\n",
       " 'too',\n",
       " 'under',\n",
       " 'until',\n",
       " 'up',\n",
       " 've',\n",
       " 'very',\n",
       " 'was',\n",
       " 'wasn',\n",
       " \"wasn't\",\n",
       " 'we',\n",
       " 'were',\n",
       " 'weren',\n",
       " \"weren't\",\n",
       " 'what',\n",
       " 'when',\n",
       " 'where',\n",
       " 'which',\n",
       " 'while',\n",
       " 'who',\n",
       " 'whom',\n",
       " 'why',\n",
       " 'will',\n",
       " 'with',\n",
       " 'won',\n",
       " \"won't\",\n",
       " 'wouldn',\n",
       " \"wouldn't\",\n",
       " 'y',\n",
       " 'you',\n",
       " \"you'd\",\n",
       " \"you'll\",\n",
       " \"you're\",\n",
       " \"you've\",\n",
       " 'your',\n",
       " 'yours',\n",
       " 'yourself',\n",
       " 'yourselves'}"
      ]
     },
     "execution_count": 8,
     "metadata": {},
     "output_type": "execute_result"
    }
   ],
   "source": [
    "stop_words= set(stopwords.words('english'))\n",
    "stop_words"
   ]
  },
  {
   "cell_type": "code",
   "execution_count": 9,
   "metadata": {
    "collapsed": false
   },
   "outputs": [
    {
     "name": "stdout",
     "output_type": "stream",
     "text": [
      "[nltk_data] Downloading package punkt to C:\\Users\\P\n",
      "[nltk_data]     Abhi\\AppData\\Roaming\\nltk_data...\n",
      "[nltk_data]   Package punkt is already up-to-date!\n"
     ]
    },
    {
     "data": {
      "text/plain": [
       "True"
      ]
     },
     "execution_count": 9,
     "metadata": {},
     "output_type": "execute_result"
    }
   ],
   "source": [
    "import nltk\n",
    "nltk.download('punkt')"
   ]
  },
  {
   "cell_type": "code",
   "execution_count": 10,
   "metadata": {
    "collapsed": false
   },
   "outputs": [
    {
     "data": {
      "text/plain": [
       "['rt',\n",
       " 'mayasolovely',\n",
       " 'woman',\n",
       " 'complain',\n",
       " 'cleaning',\n",
       " 'house',\n",
       " 'amp',\n",
       " 'man',\n",
       " 'always',\n",
       " 'take',\n",
       " 'trash']"
      ]
     },
     "execution_count": 10,
     "metadata": {},
     "output_type": "execute_result"
    }
   ],
   "source": [
    "def clean_tweet(tweet):\n",
    "    tweet = re.sub('#',' ',tweet) # Removing '#' from hashtags\n",
    "    tweet = re.sub(\"[^a-zA-Z#]\", \" \",tweet) # Removing punctuation and special characters\n",
    "    tweet = re.sub(r'http[s]?://(?:[a-z]|[0-9]|[$-_@.&amp;+]|[!*\\(\\),]|(?:%[0-9a-f][0-9a-f]))+',\"<URL>\", tweet)\n",
    "    tweet = re.sub('http','',tweet)\n",
    "    tweet = re.sub(\" +\",\" \", tweet)\n",
    "    tweet = tweet.lower()\n",
    "    tweet = word_tokenize(tweet)\n",
    "    return_tweet=[]\n",
    "    for word in tweet:\n",
    "        if word not in stop_words:\n",
    "            return_tweet.append(word)\n",
    "    return return_tweet\n",
    "dataset[\"tweet\"]=dataset[\"tweet\"].apply(clean_tweet)\n",
    "dataset[\"tweet\"][0]"
   ]
  },
  {
   "cell_type": "code",
   "execution_count": 11,
   "metadata": {
    "collapsed": true
   },
   "outputs": [],
   "source": [
    "model = Word2Vec(dataset[\"tweet\"].values, window=5, min_count=1, workers=4)"
   ]
  },
  {
   "cell_type": "code",
   "execution_count": 12,
   "metadata": {
    "collapsed": true
   },
   "outputs": [],
   "source": [
    "def get_features(tweet):\n",
    "    features=[]\n",
    "    for word in tweet:\n",
    "        features.append(model.wv[word])\n",
    "    return np.mean(features,0)"
   ]
  },
  {
   "cell_type": "code",
   "execution_count": 13,
   "metadata": {
    "collapsed": false,
    "scrolled": true
   },
   "outputs": [
    {
     "data": {
      "text/plain": [
       "array([array([ 0.11553738,  1.0395324 ,  0.25051385, -0.13910814, -0.18682489,\n",
       "       -0.44182733,  0.00234372, -0.93454725,  0.8147785 , -0.4162714 ,\n",
       "       -1.5288483 , -0.9862829 ,  0.11369534,  0.41668895,  0.43517962,\n",
       "        0.39352864, -0.08559679,  0.23901843,  1.1384119 , -0.98939055,\n",
       "        0.3910118 , -0.8153619 , -1.2095758 , -0.51867944,  0.5443054 ,\n",
       "        0.005813  ,  0.65393925, -0.5472073 , -0.79138875,  0.5202674 ,\n",
       "        0.34038025,  0.20733218, -0.566524  , -0.4267394 ,  0.07485756,\n",
       "       -0.802417  , -0.51955056, -0.03515605,  0.28506428, -0.5339573 ,\n",
       "        0.35980514,  0.07314367,  1.2133036 , -0.3649437 , -0.58181006,\n",
       "        0.10346469,  0.24456698, -0.24394354, -0.22124232,  0.15185012,\n",
       "       -0.12077307, -0.88358045, -0.8025818 ,  0.5921378 , -1.117667  ,\n",
       "        0.5601097 ,  0.04098319,  0.06106268,  0.9184685 ,  0.3080037 ,\n",
       "        0.10585833, -0.50105196, -0.7664136 , -1.0180236 , -0.5792523 ,\n",
       "       -0.71139807, -1.1394429 , -0.21704602, -0.8710811 ,  0.44839782,\n",
       "       -0.7219328 , -0.35114625, -0.00426564,  0.07897135, -0.23837839,\n",
       "       -1.0373441 ,  0.6557145 ,  0.16788593, -0.35096624,  0.9286896 ,\n",
       "        0.44372022,  0.7892837 , -0.8960653 , -0.1076312 ,  0.55381656,\n",
       "       -0.66039854, -0.07518965, -0.4741627 , -0.24686265, -0.16520104,\n",
       "        1.4345554 ,  0.14482585, -0.64957494,  0.822792  , -0.03947206,\n",
       "       -0.03672062,  0.29981524, -0.03975927, -0.49827623,  0.39495134],\n",
       "      dtype=float32),\n",
       "       array([ 0.07444543,  0.7170792 ,  0.18306759, -0.09968995, -0.12121442,\n",
       "       -0.30858693,  0.01803521, -0.64925766,  0.5612937 , -0.27893606,\n",
       "       -1.0691087 , -0.69410986,  0.0731492 ,  0.29941016,  0.31563327,\n",
       "        0.27046648, -0.04345512,  0.19034192,  0.8018764 , -0.68392754,\n",
       "        0.2735267 , -0.5621277 , -0.83422863, -0.34855253,  0.38262573,\n",
       "        0.00176308,  0.44961807, -0.38898823, -0.54646724,  0.3563671 ,\n",
       "        0.22872598,  0.1505457 , -0.38878548, -0.29068205,  0.06123943,\n",
       "       -0.5638683 , -0.3580566 , -0.02876323,  0.20300068, -0.38576955,\n",
       "        0.24725726,  0.03739998,  0.8534242 , -0.2574681 , -0.40873814,\n",
       "        0.08104947,  0.17454645, -0.1672411 , -0.16076693,  0.09861133,\n",
       "       -0.09850728, -0.6067115 , -0.5572574 ,  0.41514212, -0.7883302 ,\n",
       "        0.39224863,  0.03932982,  0.04289658,  0.639885  ,  0.21568397,\n",
       "        0.06691577, -0.36370918, -0.53252465, -0.7053591 , -0.40138143,\n",
       "       -0.49130282, -0.780932  , -0.15256228, -0.58977294,  0.30447125,\n",
       "       -0.50660217, -0.25534183, -0.0043395 ,  0.06348813, -0.16511068,\n",
       "       -0.7157703 ,  0.4544974 ,  0.10452657, -0.23536733,  0.65264094,\n",
       "        0.31091088,  0.5551426 , -0.6168802 , -0.06379611,  0.38997814,\n",
       "       -0.46067083, -0.05862878, -0.3187267 , -0.17157348, -0.11826877,\n",
       "        0.9866813 ,  0.10151418, -0.44908744,  0.5766828 , -0.02417217,\n",
       "       -0.02565138,  0.21036798, -0.0376136 , -0.34890112,  0.27669543],\n",
       "      dtype=float32),\n",
       "       array([ 0.11439252,  1.0248957 ,  0.2815047 , -0.15000471, -0.1696341 ,\n",
       "       -0.4427708 ,  0.02107465, -0.92613035,  0.784338  , -0.39300516,\n",
       "       -1.5261096 , -0.98954517,  0.10510623,  0.41863889,  0.46246737,\n",
       "        0.39465445, -0.05516527,  0.28638178,  1.1360967 , -0.9713879 ,\n",
       "        0.39576152, -0.7879449 , -1.1903993 , -0.4955118 ,  0.54479015,\n",
       "       -0.00641654,  0.63377124, -0.54366887, -0.774113  ,  0.5118046 ,\n",
       "        0.321207  ,  0.20095658, -0.5446153 , -0.40282652,  0.09556143,\n",
       "       -0.81432503, -0.50107723, -0.0400956 ,  0.27771163, -0.55862856,\n",
       "        0.3626498 ,  0.06199869,  1.2150521 , -0.35688967, -0.5734812 ,\n",
       "        0.12183703,  0.24859208, -0.24212061, -0.23027728,  0.12577285,\n",
       "       -0.15177768, -0.8589952 , -0.7866682 ,  0.5918652 , -1.1320689 ,\n",
       "        0.565743  ,  0.07429408,  0.06055322,  0.9126109 ,  0.2957684 ,\n",
       "        0.07975005, -0.5240197 , -0.75239456, -0.99731964, -0.57023335,\n",
       "       -0.7001199 , -1.1039165 , -0.19965863, -0.82305175,  0.4150691 ,\n",
       "       -0.7282733 , -0.35448244, -0.01114026,  0.09021018, -0.2411476 ,\n",
       "       -1.0050291 ,  0.6420642 ,  0.15727177, -0.34024543,  0.93240166,\n",
       "        0.46309254,  0.791415  , -0.8703076 , -0.09345258,  0.5645241 ,\n",
       "       -0.65737015, -0.0841395 , -0.4409123 , -0.24940869, -0.16720332,\n",
       "        1.40367   ,  0.1254174 , -0.6350949 ,  0.831159  , -0.02818663,\n",
       "       -0.02275655,  0.28232574, -0.05122151, -0.4872565 ,  0.39156488],\n",
       "      dtype=float32),\n",
       "       ...,\n",
       "       array([ 0.1799103 ,  1.0472109 ,  0.5289567 , -0.27503145, -0.15605894,\n",
       "       -0.41702738, -0.06887802, -1.0130681 ,  0.6805354 , -0.31399712,\n",
       "       -1.5684116 , -1.0874816 ,  0.0987325 ,  0.41324642,  0.56861573,\n",
       "        0.37994397, -0.06461641,  0.49368107,  1.0580484 , -0.9400101 ,\n",
       "        0.4181677 , -0.69589406, -1.2969682 , -0.537933  ,  0.55738866,\n",
       "       -0.04499533,  0.48999652, -0.43312648, -0.63616574,  0.6233637 ,\n",
       "        0.19138722,  0.10664559, -0.44392768, -0.27123398,  0.23964995,\n",
       "       -0.9328568 , -0.5444095 , -0.00176821,  0.27003002, -0.7006681 ,\n",
       "        0.40785715,  0.17672306,  1.199952  , -0.26449797, -0.5112671 ,\n",
       "        0.25080696,  0.22846265, -0.34236535, -0.23468071,  0.05097485,\n",
       "       -0.38094434, -0.744574  , -0.6844661 ,  0.5711084 , -1.2943124 ,\n",
       "        0.5655625 ,  0.3166574 ,  0.06118998,  0.91225207,  0.08580231,\n",
       "       -0.0698893 , -0.6280463 , -0.6575663 , -0.98102164, -0.60920495,\n",
       "       -0.7627774 , -1.1529093 , -0.13378644, -0.55179065,  0.36804602,\n",
       "       -0.8301011 , -0.32075343, -0.08329535,  0.00791424, -0.39794624,\n",
       "       -0.867964  ,  0.6124418 ,  0.2369186 , -0.2658865 ,  0.9242642 ,\n",
       "        0.65260404,  0.8407883 , -0.6966992 , -0.05747503,  0.6783809 ,\n",
       "       -0.70800793, -0.16147079, -0.3108448 , -0.35557434, -0.22949912,\n",
       "        1.3734283 , -0.03270816, -0.60115683,  0.94839764, -0.00801646,\n",
       "        0.14086641,  0.13273853, -0.10574991, -0.5201505 ,  0.29662806],\n",
       "      dtype=float32),\n",
       "       array([ 0.0624088 ,  0.6486621 ,  0.17040794, -0.09657946, -0.09975317,\n",
       "       -0.27311984,  0.05006232, -0.60741943,  0.49795166, -0.2333829 ,\n",
       "       -0.9612648 , -0.63949245,  0.05308318,  0.26721326,  0.32495138,\n",
       "        0.2347675 , -0.00812267,  0.19362539,  0.73573977, -0.61216885,\n",
       "        0.2675906 , -0.48599002, -0.73295766, -0.2933791 ,  0.36869964,\n",
       "        0.01112371,  0.4057183 , -0.37759832, -0.4703212 ,  0.32757077,\n",
       "        0.21628271,  0.1328928 , -0.33684027, -0.26169282,  0.05376124,\n",
       "       -0.51659983, -0.31739575, -0.00986901,  0.18023837, -0.38246012,\n",
       "        0.21821441,  0.00486913,  0.7710952 , -0.23708777, -0.36720166,\n",
       "        0.08654889,  0.16537654, -0.15089928, -0.14306043,  0.08057965,\n",
       "       -0.12446383, -0.5412939 , -0.48960304,  0.4013861 , -0.736358  ,\n",
       "        0.368934  ,  0.04449566,  0.04323199,  0.5659427 ,  0.20882529,\n",
       "        0.06631495, -0.3487277 , -0.47792092, -0.6308462 , -0.36540735,\n",
       "       -0.4139458 , -0.6709137 , -0.1302052 , -0.5092571 ,  0.25663018,\n",
       "       -0.46380422, -0.24166985,  0.00492384,  0.08792653, -0.13746677,\n",
       "       -0.65862817,  0.43246236,  0.09417149, -0.21029896,  0.5982866 ,\n",
       "        0.3017018 ,  0.5246889 , -0.5642797 , -0.03404149,  0.3769734 ,\n",
       "       -0.43594697, -0.06539039, -0.2690144 , -0.1415524 , -0.09915318,\n",
       "        0.8926819 ,  0.07835826, -0.4023625 ,  0.5003706 , -0.01465147,\n",
       "       -0.03889926,  0.20345499, -0.04726066, -0.31792963,  0.25890648],\n",
       "      dtype=float32),\n",
       "       array([ 5.75258769e-02,  5.51099658e-01,  1.04707755e-01, -6.24995753e-02,\n",
       "       -1.07770234e-01, -2.37650231e-01,  1.72465618e-04, -4.83258903e-01,\n",
       "        4.48947877e-01, -2.33094528e-01, -8.00935566e-01, -5.07776201e-01,\n",
       "        7.07407892e-02,  2.15144008e-01,  2.03488439e-01,  2.12460905e-01,\n",
       "       -5.48561774e-02,  9.52862203e-02,  6.07787728e-01, -5.31795502e-01,\n",
       "        2.00765029e-01, -4.45450246e-01, -6.39498770e-01, -2.80283093e-01,\n",
       "        2.79357076e-01,  7.45729730e-03,  3.62356782e-01, -2.95297891e-01,\n",
       "       -4.36520547e-01,  2.68111169e-01,  1.89708084e-01,  1.19046830e-01,\n",
       "       -3.08891445e-01, -2.40171507e-01,  2.06567962e-02, -4.14130569e-01,\n",
       "       -2.79179126e-01, -2.47308146e-02,  1.52202919e-01, -2.57213801e-01,\n",
       "        1.91568330e-01,  3.89939770e-02,  6.40180349e-01, -2.02470094e-01,\n",
       "       -3.14790756e-01,  3.33524868e-02,  1.27346560e-01, -1.18469901e-01,\n",
       "       -1.12037905e-01,  9.81069207e-02, -3.12853232e-02, -4.79864448e-01,\n",
       "       -4.35294718e-01,  3.10620874e-01, -5.63995004e-01,  2.94263482e-01,\n",
       "       -1.35286748e-02,  3.22596207e-02,  4.82718796e-01,  1.84131309e-01,\n",
       "        7.46902376e-02, -2.46007189e-01, -4.14777607e-01, -5.47407210e-01,\n",
       "       -3.00722986e-01, -3.79157394e-01, -6.11568332e-01, -1.25222534e-01,\n",
       "       -4.99373794e-01,  2.52706856e-01, -3.73202294e-01, -1.87536255e-01,\n",
       "        5.05870767e-03,  3.81308049e-02, -1.12517007e-01, -5.65720499e-01,\n",
       "        3.46975982e-01,  8.43710080e-02, -1.97677344e-01,  4.93864179e-01,\n",
       "        2.09293082e-01,  4.05920267e-01, -4.95200843e-01, -6.86167181e-02,\n",
       "        2.76315272e-01, -3.44279826e-01, -2.64514145e-02, -2.74482280e-01,\n",
       "       -1.26205593e-01, -8.16499069e-02,  7.66668081e-01,  9.40185562e-02,\n",
       "       -3.54052842e-01,  4.26084757e-01, -2.28516795e-02, -3.52455787e-02,\n",
       "        1.74960792e-01, -3.92292161e-03, -2.65819162e-01,  2.10764587e-01],\n",
       "      dtype=float32)], dtype=object)"
      ]
     },
     "execution_count": 13,
     "metadata": {},
     "output_type": "execute_result"
    }
   ],
   "source": [
    "dataset[\"features\"]=dataset[\"tweet\"].apply(get_features)\n",
    "dataset[\"features\"].values"
   ]
  },
  {
   "cell_type": "code",
   "execution_count": 14,
   "metadata": {
    "collapsed": false
   },
   "outputs": [],
   "source": [
    "data=[]\n",
    "for i in dataset[\"features\"].values:\n",
    "    temp=[]\n",
    "    for j in i:\n",
    "        temp.append(j)\n",
    "    data.append(temp)\n",
    "data=np.array(data)"
   ]
  },
  {
   "cell_type": "code",
   "execution_count": 15,
   "metadata": {
    "collapsed": false
   },
   "outputs": [],
   "source": [
    "from sklearn.preprocessing import label_binarize\n",
    "\n",
    "Y = label_binarize(dataset[\"class\"].values, classes=[0, 1, 2])\n",
    "n_classes = Y.shape[1]\n",
    "X_train, X_test, y_train, y_test = train_test_split(data, Y, test_size=0.2, random_state=42)"
   ]
  },
  {
   "cell_type": "code",
   "execution_count": 16,
   "metadata": {
    "collapsed": false
   },
   "outputs": [
    {
     "name": "stdout",
     "output_type": "stream",
     "text": [
      "[[ 0.07941091  0.7341237   0.16728203 ... -0.02503269 -0.35077545\n",
      "   0.2838047 ]\n",
      " [ 0.08759803  0.8520452   0.16880365 ... -0.02511002 -0.408289\n",
      "   0.3429183 ]\n",
      " [ 0.08024996  0.7380877   0.18470939 ... -0.03486289 -0.35558626\n",
      "   0.28441766]\n",
      " ...\n",
      " [ 0.05364265  0.5668417   0.07539663 ...  0.00476483 -0.24167554\n",
      "   0.19248688]\n",
      " [ 0.06184837  0.57758325  0.11678924 ... -0.00778304 -0.278493\n",
      "   0.21842074]\n",
      " [ 0.12978868  1.0849097   0.3320349  ... -0.07269798 -0.5287537\n",
      "   0.4324141 ]]\n"
     ]
    }
   ],
   "source": [
    "print(X_train)"
   ]
  },
  {
   "cell_type": "code",
   "execution_count": 17,
   "metadata": {
    "collapsed": false
   },
   "outputs": [
    {
     "name": "stdout",
     "output_type": "stream",
     "text": [
      "[[1 0 0]\n",
      " [0 0 1]\n",
      " [0 1 0]\n",
      " ...\n",
      " [0 1 0]\n",
      " [0 1 0]\n",
      " [0 1 0]]\n"
     ]
    }
   ],
   "source": [
    "print(y_train)"
   ]
  },
  {
   "cell_type": "code",
   "execution_count": 18,
   "metadata": {
    "collapsed": true
   },
   "outputs": [],
   "source": [
    "from sklearn.linear_model import LogisticRegression\n",
    "from sklearn.multiclass import OneVsRestClassifier\n",
    "from sklearn.metrics import f1_score\n",
    "from sklearn.metrics import recall_score\n",
    "from sklearn.metrics import precision_score\n",
    "from sklearn.metrics import precision_recall_curve\n",
    "import matplotlib.pyplot as plt\n",
    "import seaborn as sns\n",
    "import warnings\n",
    "from sklearn.metrics import multilabel_confusion_matrix\n",
    "warnings.filterwarnings('ignore')"
   ]
  },
  {
   "cell_type": "code",
   "execution_count": 50,
   "metadata": {
    "collapsed": false
   },
   "outputs": [
    {
     "name": "stdout",
     "output_type": "stream",
     "text": [
      "F1 Score:  0.8338150289017341\n",
      "Precision Score:  0.8537307123229761\n",
      "Recall Score:  0.8148073431510995\n",
      "Accuracy:  0.81440387331047\n"
     ]
    },
    {
     "data": {
      "image/png": "[encoded data removed]",
      "text/plain": [
       "<matplotlib.figure.Figure at 0x2602f064940>"
      ]
     },
     "metadata": {},
     "output_type": "display_data"
    },
    {
     "data": {
      "image/png": "[encoded data removed]",
      "text/plain": [
       "<matplotlib.figure.Figure at 0x2602efe7cf8>"
      ]
     },
     "metadata": {},
     "output_type": "display_data"
    }
   ],
   "source": [
    "lr_clf = OneVsRestClassifier(LogisticRegression(random_state=0, solver='lbfgs',multi_class='multinomial'))\n",
    "lr_clf.fit(X_train,y_train)\n",
    "y_pred = lr_clf.predict(X_test)\n",
    "f = f1_score(y_test, y_pred, average='micro')\n",
    "print(\"F1 Score: \", f)\n",
    "p = precision_score(y_test, y_pred, average='micro')\n",
    "print(\"Precision Score: \", p)\n",
    "r = recall_score(y_test, y_pred, average='micro')\n",
    "print(\"Recall Score: \", r)\n",
    "print(\"Accuracy: \", lr_clf.score(X_test,y_test))\n",
    "cm = multilabel_confusion_matrix(y_test, y_pred)\n",
    "names = ['x', 'y', 'z']\n",
    "index = pd.MultiIndex.from_product([range(s)for s in cm.shape], names=names)\n",
    "cm_df= pd.DataFrame({'A': cm.flatten()}, index=index)['A']\n",
    "cm_df = cm_df.unstack(level='x').swaplevel().sort_index()\n",
    "cm_df.columns = ['Neutral', 'More Hate', 'Less Hate']\n",
    "cm_df.index=['TN','FP','FN','TP']\n",
    "cm_df.index.names = ['value']\n",
    "plt.figure(figsize=(5,4.5))\n",
    "sns.heatmap(cm_df, annot=True,cmap='Blues', fmt='g')\n",
    "plt.title('Confusion Matrix')\n",
    "plt.ylabel('Actal Values')\n",
    "plt.xlabel('Predicted Values')\n",
    "plt.show()\n",
    "y_score = lr_clf.predict_proba(X_test)\n",
    "precision = dict()\n",
    "recall = dict()\n",
    "for i in range(n_classes):\n",
    "    precision[i], recall[i], _ = precision_recall_curve(y_test[:, i],\n",
    "                                                        y_score[:, i])\n",
    "    plt.plot(recall[i], precision[i], lw=2, label='class {}'.format(i))\n",
    "\n",
    "plt.xlabel(\"Recall\")\n",
    "plt.ylabel(\"Precision\")\n",
    "plt.legend(loc = \"best\")\n",
    "plt.title(\"Precision vs. Recall curve\")\n",
    "plt.show()"
   ]
  },
  {
   "cell_type": "code",
   "execution_count": 20,
   "metadata": {
    "collapsed": false
   },
   "outputs": [],
   "source": [
    "from sklearn.multiclass import OneVsRestClassifier\n",
    "from sklearn.svm import LinearSVC"
   ]
  },
  {
   "cell_type": "code",
   "execution_count": 51,
   "metadata": {
    "collapsed": false
   },
   "outputs": [
    {
     "name": "stdout",
     "output_type": "stream",
     "text": [
      "F1 Score:  0.843698175787728\n",
      "Precision Score:  0.867618844596035\n",
      "Recall Score:  0.8210611256808553\n",
      "Accuracy:  0.8198507161589671\n"
     ]
    },
    {
     "data": {
      "image/png": "[encoded data removed]",
      "text/plain": [
       "<matplotlib.figure.Figure at 0x2602f83de48>"
      ]
     },
     "metadata": {},
     "output_type": "display_data"
    }
   ],
   "source": [
    "lr_clf=OneVsRestClassifier(LinearSVC(random_state=0)).fit(X_train, y_train)\n",
    "y_pred = lr_clf.predict(X_test)\n",
    "f = f1_score(y_test, y_pred, average='micro')\n",
    "print(\"F1 Score: \", f)\n",
    "p = precision_score(y_test, y_pred, average='micro')\n",
    "print(\"Precision Score: \", p)\n",
    "r = recall_score(y_test, y_pred, average='micro')\n",
    "print(\"Recall Score: \", r)\n",
    "print(\"Accuracy: \", lr_clf.score(X_test,y_test))\n",
    "cm = multilabel_confusion_matrix(y_test, y_pred)\n",
    "names = ['x', 'y', 'z']\n",
    "index = pd.MultiIndex.from_product([range(s)for s in cm.shape], names=names)\n",
    "cm_df= pd.DataFrame({'A': cm.flatten()}, index=index)['A']\n",
    "cm_df = cm_df.unstack(level='x').swaplevel()\n",
    "cm_df.columns = ['Neutral', 'More Hate', 'Less Hate']\n",
    "cm_df.index=['TN','FN','FP','TP']\n",
    "cm_df.index.names = ['value']\n",
    "plt.figure(figsize=(5,4.5))\n",
    "sns.heatmap(cm_df, annot=True,cmap='Blues', fmt='g')\n",
    "plt.title('Confusion Matrix')\n",
    "plt.ylabel('Actal Values')\n",
    "plt.xlabel('Predicted Values')\n",
    "plt.show()\n"
   ]
  },
  {
   "cell_type": "code",
   "execution_count": null,
   "metadata": {
    "collapsed": true
   },
   "outputs": [],
   "source": []
  },
  {
   "cell_type": "code",
   "execution_count": 22,
   "metadata": {
    "collapsed": true
   },
   "outputs": [],
   "source": [
    "from sklearn.neighbors import KNeighborsClassifier"
   ]
  },
  {
   "cell_type": "code",
   "execution_count": 52,
   "metadata": {
    "collapsed": false
   },
   "outputs": [
    {
     "name": "stdout",
     "output_type": "stream",
     "text": [
      "F1 Score:  0.8182939362795478\n",
      "Precision Score:  0.8340666247642992\n",
      "Recall Score:  0.8031067177728465\n",
      "Accuracy:  0.8198507161589671\n"
     ]
    },
    {
     "data": {
      "image/png": "[encoded data removed]",
      "text/plain": [
       "<matplotlib.figure.Figure at 0x2602f3cc4e0>"
      ]
     },
     "metadata": {},
     "output_type": "display_data"
    }
   ],
   "source": [
    "knn_clf=KNeighborsClassifier()\n",
    "knn_clf.fit(X_train,y_train)\n",
    "y_pred=knn_clf.predict(X_test)\n",
    "f = f1_score(y_test, y_pred, average='micro')\n",
    "print(\"F1 Score: \", f)\n",
    "p = precision_score(y_test, y_pred, average='micro')\n",
    "print(\"Precision Score: \", p)\n",
    "r = recall_score(y_test, y_pred, average='micro')\n",
    "print(\"Recall Score: \", r)\n",
    "print(\"Accuracy: \", lr_clf.score(X_test,y_test))\n",
    "cm = multilabel_confusion_matrix(y_test, y_pred)\n",
    "names = ['x', 'y', 'z']\n",
    "index = pd.MultiIndex.from_product([range(s)for s in cm.shape], names=names)\n",
    "cm_df= pd.DataFrame({'A': cm.flatten()}, index=index)['A']\n",
    "cm_df = cm_df.unstack(level='x').swaplevel()\n",
    "cm_df.columns = ['Neutral', 'More Hate', 'Less Hate']\n",
    "cm_df.index=['TN','FN','FP','TP']\n",
    "cm_df.index.names = ['value']\n",
    "plt.figure(figsize=(5,4.5))\n",
    "sns.heatmap(cm_df, annot=True,cmap='Blues', fmt='g')\n",
    "plt.title('Confusion Matrix')\n",
    "plt.ylabel('Actal Values')\n",
    "plt.xlabel('Predicted Values')\n",
    "plt.show()\n"
   ]
  },
  {
   "cell_type": "code",
   "execution_count": 58,
   "metadata": {
    "collapsed": false
   },
   "outputs": [
    {
     "name": "stdout",
     "output_type": "stream",
     "text": [
      "F1 Score:  0.8206413872349316\n",
      "Precision Score:  0.8509532062391681\n",
      "Recall Score:  0.7924147669961671\n",
      "Accuracy:  0.8198507161589671\n"
     ]
    },
    {
     "data": {
      "image/png": "[encoded data removed]",
      "text/plain": [
       "<matplotlib.figure.Figure at 0x2602f97ab00>"
      ]
     },
     "metadata": {},
     "output_type": "display_data"
    }
   ],
   "source": [
    "from sklearn.tree import DecisionTreeClassifier\n",
    "dtree_model1 = DecisionTreeClassifier(max_depth = 5)\n",
    "dtree_model=dtree_model1.fit(X_train, y_train)\n",
    "y_pred = dtree_model.predict(X_test)\n",
    "f = f1_score(y_test, y_pred, average='micro')\n",
    "print(\"F1 Score: \", f)\n",
    "p = precision_score(y_test, y_pred, average='micro')\n",
    "print(\"Precision Score: \", p)\n",
    "r = recall_score(y_test, y_pred, average='micro')\n",
    "print(\"Recall Score: \", r)\n",
    "print(\"Accuracy: \", lr_clf.score(X_test,y_test))\n",
    "cm = multilabel_confusion_matrix(y_test, y_pred)\n",
    "names = ['x', 'y', 'z']\n",
    "index = pd.MultiIndex.from_product([range(s)for s in cm.shape], names=names)\n",
    "cm_df= pd.DataFrame({'A': cm.flatten()}, index=index)['A']\n",
    "cm_df = cm_df.unstack(level='x').swaplevel()\n",
    "cm_df.columns = ['Neutral', 'More Hate', 'Less Hate']\n",
    "cm_df.index=['TN','FN','FP','TP']\n",
    "cm_df.index.names = ['value']\n",
    "plt.figure(figsize=(5,4.5))\n",
    "sns.heatmap(cm_df, annot=True,cmap='Blues', fmt='g')\n",
    "plt.title('Confusion Matrix')\n",
    "plt.ylabel('Actal Values')\n",
    "plt.xlabel('Predicted Values')\n",
    "plt.show()"
   ]
  },
  {
   "cell_type": "code",
   "execution_count": null,
   "metadata": {
    "collapsed": true
   },
   "outputs": [],
   "source": []
  },
  {
   "cell_type": "code",
   "execution_count": null,
   "metadata": {
    "collapsed": true
   },
   "outputs": [],
   "source": []
  }
 ],
 "metadata": {
  "kernelspec": {
   "display_name": "Python 3",
   "language": "python",
   "name": "python3"
  },
  "language_info": {
   "codemirror_mode": {
    "name": "ipython",
    "version": 3
   },
   "file_extension": ".py",
   "mimetype": "text/x-python",
   "name": "python",
   "nbconvert_exporter": "python",
   "pygments_lexer": "ipython3",
   "version": "3.6.0"
  }
 },
 "nbformat": 4,
 "nbformat_minor": 5
}
